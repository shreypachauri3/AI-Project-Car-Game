{
  "nbformat": 4,
  "nbformat_minor": 0,
  "metadata": {
    "colab": {
      "provenance": [],
      "collapsed_sections": [
        "bsD25vKXfggY",
        "-yHbN_x0f2ID"
      ],
      "include_colab_link": true
    },
    "kernelspec": {
      "name": "python3",
      "display_name": "Python 3"
    },
    "language_info": {
      "name": "python"
    }
  },
  "cells": [
    {
      "cell_type": "markdown",
      "metadata": {
        "id": "view-in-github",
        "colab_type": "text"
      },
      "source": [
        "<a href=\"https://colab.research.google.com/github/shreypachauri3/AI-Project-Car-Game/blob/master/Python_Practise_Questions.ipynb\" target=\"_parent\"><img src=\"https://colab.research.google.com/assets/colab-badge.svg\" alt=\"Open In Colab\"/></a>"
      ]
    },
    {
      "cell_type": "markdown",
      "source": [
        "\n",
        "\n",
        "## **QUESTION 1**\n",
        "\n"
      ],
      "metadata": {
        "id": "bsD25vKXfggY"
      }
    },
    {
      "cell_type": "code",
      "execution_count": null,
      "metadata": {
        "colab": {
          "base_uri": "https://localhost:8080/"
        },
        "id": "yzMrD_hXSMFI",
        "outputId": "c1475141-74c7-4cf5-db48-3ae8827e2d76"
      },
      "outputs": [
        {
          "output_type": "stream",
          "name": "stdout",
          "text": [
            "Original List -->  [11, 12, 13, 14]\n",
            "Adding 50 and 60 in List -->  [11, 12, 13, 14, 50, 60]\n",
            "Deleting 11 and 13 from list -->  [12, 14, 50, 60]\n",
            "Sorted List in Ascending Order -->  [12, 14, 50, 60]\n",
            "Sorted List in Desending Order -->  [60, 50, 14, 12]\n",
            "13 is Absent\n",
            "Total Number of elements are -->  4\n",
            "Sum is -->  136\n",
            "Sum of Odd Number is -->  0\n",
            "Sum of Even Number is -->  136\n",
            "Sum of Prime number is -->  0\n",
            "List is--> []\n"
          ]
        }
      ],
      "source": [
        "L=[11,12,13,14]\n",
        "print(\"Original List --> \",L)\n",
        "# (i) WAP to add 50 and 60 to L.\n",
        "L.append(50)\n",
        "L.append(60)\n",
        "print(\"Adding 50 and 60 in List --> \",L)\n",
        "\n",
        "# (ii) WAP to remove 11 and 13from L.\n",
        "del L[0]\n",
        "del L[1]\n",
        "print(\"Deleting 11 and 13 from list --> \",L)\n",
        "\n",
        "# (iii) WAP to sort L in ascending order.\n",
        "L.sort()\n",
        "print(\"Sorted List in Ascending Order --> \",L)\n",
        "\n",
        "# (iv) WAP to sort L in descending order.\n",
        "L.sort(reverse=True)\n",
        "print(\"Sorted List in Desending Order --> \",L)\n",
        "\n",
        "# (v) WAP to search for 13 in L.\n",
        "if(13 in L==True):\n",
        "  print(\"13 is Present\")\n",
        "else:\n",
        "  print(\"13 is Absent\")\n",
        "\n",
        "# (vi) WAP to count the number of elements present in L.\n",
        "print(\"Total Number of elements are --> \",len(L))\n",
        "\n",
        "# (vii) WAP to sum all the elements in L.\n",
        "print(\"Sum is --> \",sum(L))\n",
        "\n",
        "# (viii) WAP to sum all ODD numbers in L.\n",
        "s=0\n",
        "for i in range(0,len(L)):\n",
        "  if(L[i]%2!=0):\n",
        "    s=s+L[i]\n",
        "print(\"Sum of Odd Number is --> \",s)\n",
        "\n",
        "# (ix) WAP to sum all EVEN numbers in L.\n",
        "s=0\n",
        "for i in range(0,len(L)):\n",
        "  if(L[i]%2==0):\n",
        "    s=s+L[i]\n",
        "print(\"Sum of Even Number is --> \",s)\n",
        "\n",
        "# (x) WAP to sum all PRIME numbers in L.\n",
        "s=0\n",
        "def isprime(n):\n",
        "  for i in range(2,n//2+1):\n",
        "    if(n%i==0):\n",
        "      return False\n",
        "  return True \n",
        "def sum_prime():\n",
        "  for i in range(0,len(L)):\n",
        "    if(isprime(L[i])==True):\n",
        "      s=s+L[i]\n",
        "print(\"Sum of Prime number is --> \",s)\n",
        "\n",
        "    \n",
        "# (xi) WAP to clear all the elements in L.\n",
        "L.clear()\n",
        "print(\"List is-->\",L)\n",
        "\n",
        "# (xii) WAP to delete L.\n",
        "del L\n",
        "print(\"List is-->\",L)"
      ]
    },
    {
      "cell_type": "markdown",
      "source": [
        "# Question **2**"
      ],
      "metadata": {
        "id": "-yHbN_x0f2ID"
      }
    },
    {
      "cell_type": "code",
      "source": [
        "# Q2. D is a dictionary defined as D= {1:5.6, 2:7.8, 3:6.6, 4:8.7, 5:7.7}.\n",
        "D= {1:5.6, 2:7.8, 3:6.6, 4:8.7, 5:7.7}\n",
        "print(\"Original Dictionary is --> \",D)\n",
        "# (i) WAP to add new entry in D; key=8 and value is 8.8\n",
        "D[8]=8.8\n",
        "print(\"Adding new key 8 in Dictionary --> \",D)\n",
        "# (ii) WAP to remove key=2.\n",
        "del D[2]\n",
        "print(\"Removing Key 2 in Dictionary --> \",D)\n",
        "# (iii) WAP to check weather 6 key is present in D.\n",
        "if((6 in D)==True):\n",
        "  print(\"6 is Present\")\n",
        "else:\n",
        "  print(\"6 is Not Present\")\n",
        "# (iv) WAP to count the number of elements present in D.\n",
        "print(\"number of elements --> \",len(D))\n",
        "# (v) WAP to add all the values present D.\n",
        "s=0\n",
        "for value in D.values():\n",
        "  s=s+value\n",
        "print(\"Sum of values is--> \",s)\n",
        "# (vi) WAP to update the value of 3 to 7.1.\n",
        "D[3]=7.1\n",
        "print(\"Updated Dictionary--> \",D)\n",
        "# (vii) WAP to clear the dictionary.\n",
        "D.clear()\n",
        "print(\"Dictionary D--> \",D)"
      ],
      "metadata": {
        "colab": {
          "base_uri": "https://localhost:8080/"
        },
        "id": "MyIue2gJf8Kg",
        "outputId": "82abfa02-84b3-4159-b5b1-12eb0acf32d6"
      },
      "execution_count": null,
      "outputs": [
        {
          "output_type": "stream",
          "name": "stdout",
          "text": [
            "Original Dictionary is -->  {1: 5.6, 2: 7.8, 3: 6.6, 4: 8.7, 5: 7.7}\n",
            "Adding new key 8 in Dictionary -->  {1: 5.6, 2: 7.8, 3: 6.6, 4: 8.7, 5: 7.7, 8: 8.8}\n",
            "Removing Key 2 in Dictionary -->  {1: 5.6, 3: 6.6, 4: 8.7, 5: 7.7, 8: 8.8}\n",
            "6 is Not Present\n",
            "number of elements -->  5\n",
            "Sum of values is-->  37.4\n",
            "Updated Dictionary-->  {1: 5.6, 3: 7.1, 4: 8.7, 5: 7.7, 8: 8.8}\n",
            "Dictionary D-->  {}\n"
          ]
        }
      ]
    },
    {
      "cell_type": "markdown",
      "source": [
        "# **Question3**"
      ],
      "metadata": {
        "id": "qVCSkjTnVfOC"
      }
    },
    {
      "cell_type": "code",
      "source": [
        "#  SI is a set defined as S1=[10, 20, 30, 40, 50, 60].\n",
        "# S2 is a set defined as S2= [40, 50, 60, 70, 80, 90].\n",
        "\n",
        "S1=set([10, 20, 30, 40, 50, 60])\n",
        "S2= set([40, 50, 60, 70, 80, 90])\n",
        "print(\"S1-->\",S1)\n",
        "print(\"S2-->\",S2)\n",
        "\n",
        "# (i) WAP to add 55 and 66 in Set SI.\n",
        "S1.add(55)\n",
        "S1.add(66)\n",
        "print(\"New S1-->\",S1)\n",
        "\n",
        "# (ii) WAP to remove 10 and 30 from Set SI.\n",
        "S1.remove(10)\n",
        "S1.remove(30)\n",
        "print(\"New S1 is-->\",S1)\n",
        "\n",
        "# (iii) WAP to check whether 40 is present in S1.\n",
        "if 40 in S1:\n",
        "    print(\"40 is present in S1\")\n",
        "else:\n",
        "    print(\"40 is not present in S1\")\n",
        "\n",
        "# (iv) WAP to find the union between S1 and S2.\n",
        "union = S1.union(S2)\n",
        "print(\"Union of S1 and S2 is\",union)\n",
        "\n",
        "# (v) WAP to find the intersection between S1 and S2.\n",
        "intersection = S1.intersection(S2)\n",
        "print(\"Intersection of S1 and S2 is\",intersection)\n",
        "\n",
        "# (vi) WAP to find the S1 - S2.\n",
        "difference = S1 - S2\n",
        "print(\"S1-S2-->\",difference)"
      ],
      "metadata": {
        "colab": {
          "base_uri": "https://localhost:8080/"
        },
        "id": "W4tMoLpKVlZd",
        "outputId": "44876aec-e1b3-461e-e422-e5eac6735249"
      },
      "execution_count": null,
      "outputs": [
        {
          "output_type": "stream",
          "name": "stdout",
          "text": [
            "S1--> {40, 10, 50, 20, 60, 30}\n",
            "S2--> {70, 40, 80, 50, 90, 60}\n",
            "New S1--> {66, 40, 10, 50, 20, 55, 60, 30}\n",
            "New S1 is--> {66, 40, 50, 20, 55, 60}\n",
            "40 is present in S1\n",
            "Union of S1 and S2 is {66, 70, 40, 80, 50, 20, 55, 90, 60}\n",
            "Intersection of S1 and S2 is {40, 50, 60}\n",
            "S1-S2--> {66, 20, 55}\n"
          ]
        }
      ]
    },
    {
      "cell_type": "markdown",
      "source": [
        "# **Question 4**"
      ],
      "metadata": {
        "id": "G_fntHnHYHmn"
      }
    },
    {
      "cell_type": "code",
      "source": [
        "# Q4. Write the following program.\n",
        "# (1) WAP to print 100 random strings whose length between 6 and 8.\n",
        "import random\n",
        "import string\n",
        "\n",
        "def generate_random_string(length):\n",
        "    letters = string.ascii_letters\n",
        "    return ''.join(random.choice(letters) for _ in range(length))\n",
        "\n",
        "for _ in range(100):\n",
        "    random_length = random.randint(6, 8)\n",
        "    random_string = generate_random_string(random_length)\n",
        "    print(random_string)\n",
        "\n",
        "\n",
        "# (ii) WAP to print all prime numbers between 600 and 800.\n",
        "def is_prime(number):\n",
        "    if number < 2:\n",
        "        return False\n",
        "    for i in range(2, int(number**0.5) + 1):\n",
        "        if number % i == 0:\n",
        "            return False\n",
        "    return True\n",
        "\n",
        "for number in range(600, 801):\n",
        "    if is_prime(number):\n",
        "        print(number)\n",
        "\n",
        "# (iii) WAP to print all numbers between 100 and 1000 that are divisible by 7 and\n",
        "for number in range(100, 1001):\n",
        "    if number % 7 == 0 and number % 11 == 0:\n",
        "        print(number)\n"
      ],
      "metadata": {
        "colab": {
          "base_uri": "https://localhost:8080/"
        },
        "id": "9bBADF3JYMQ3",
        "outputId": "1a73e623-18c8-4e75-9f1e-df795db165e2"
      },
      "execution_count": null,
      "outputs": [
        {
          "output_type": "stream",
          "name": "stdout",
          "text": [
            "jysYsUD\n",
            "kZUSxz\n",
            "FmFoPvnj\n",
            "vWthjO\n",
            "bsxiKd\n",
            "mAlHcnNX\n",
            "qypndCC\n",
            "pzbPhX\n",
            "lcdqMN\n",
            "pAhrKnsS\n",
            "vmaNQzkq\n",
            "mIcqMHNK\n",
            "uxFnXtc\n",
            "ydmWTi\n",
            "gtdUCZ\n",
            "UheVXDfQ\n",
            "LWSyYLlI\n",
            "rwRDsXaw\n",
            "ZxSwiv\n",
            "rQswcJr\n",
            "eYyRZbJ\n",
            "bypgEj\n",
            "gBOZGZLW\n",
            "fBwVUvel\n",
            "SBNSNVOE\n",
            "rpGgSGH\n",
            "YjQkgGI\n",
            "TvLQUnz\n",
            "vQvJyoqi\n",
            "gDDxGI\n",
            "hpaVMm\n",
            "ETOVOkG\n",
            "DUuvutZt\n",
            "SsMmKsiW\n",
            "SLBYFH\n",
            "wCwFPB\n",
            "lSbkgIp\n",
            "rbaDotYT\n",
            "ITCGeO\n",
            "SJrdga\n",
            "vJyFFI\n",
            "DCXTdUC\n",
            "SwxLktZ\n",
            "cSdUaQH\n",
            "VvHdcxb\n",
            "KrvXhT\n",
            "geEKHg\n",
            "VyfgULq\n",
            "XpKIHYeO\n",
            "ctHOgHr\n",
            "GxkFTaH\n",
            "rozDUz\n",
            "UmYLNuvs\n",
            "GVaMcLt\n",
            "mdQHMSQD\n",
            "zDoVVezb\n",
            "aACzuX\n",
            "GRVdHPu\n",
            "AMWcxRvu\n",
            "cQkFwc\n",
            "ZvqLXrLD\n",
            "xjwhAeQ\n",
            "qRYixjhz\n",
            "IaJvjZ\n",
            "iGJswnc\n",
            "kSvhUqtn\n",
            "gLOeSb\n",
            "bbtgpZ\n",
            "XXzYZMVS\n",
            "azGGcA\n",
            "EwyfdkCz\n",
            "UpinYCkV\n",
            "fcXpEO\n",
            "AFMbuBp\n",
            "sNWqYQ\n",
            "qmhATH\n",
            "tkGCHZg\n",
            "QesOOf\n",
            "JbFCqmR\n",
            "VGCHMuTg\n",
            "sEYKOBKa\n",
            "RMNYku\n",
            "ZfRetxB\n",
            "VimMMwD\n",
            "OPFzPcM\n",
            "atJROKRw\n",
            "sozIlN\n",
            "PhBSkBk\n",
            "AieWQJSj\n",
            "BrGcPkSE\n",
            "zFeVvt\n",
            "UFBmLQw\n",
            "BpVmhg\n",
            "KfQlkE\n",
            "JIuRnk\n",
            "huhHhpkd\n",
            "dLVVGQCa\n",
            "jLUtyE\n",
            "RfrcOaC\n",
            "ZFLpvih\n",
            "601\n",
            "607\n",
            "613\n",
            "617\n",
            "619\n",
            "631\n",
            "641\n",
            "643\n",
            "647\n",
            "653\n",
            "659\n",
            "661\n",
            "673\n",
            "677\n",
            "683\n",
            "691\n",
            "701\n",
            "709\n",
            "719\n",
            "727\n",
            "733\n",
            "739\n",
            "743\n",
            "751\n",
            "757\n",
            "761\n",
            "769\n",
            "773\n",
            "787\n",
            "797\n",
            "154\n",
            "231\n",
            "308\n",
            "385\n",
            "462\n",
            "539\n",
            "616\n",
            "693\n",
            "770\n",
            "847\n",
            "924\n"
          ]
        }
      ]
    },
    {
      "cell_type": "markdown",
      "source": [
        "# **Question 5**"
      ],
      "metadata": {
        "id": "W50zDBo0ZA3M"
      }
    },
    {
      "cell_type": "code",
      "source": [
        "import random\n",
        "\n",
        "# Generate two lists of 10 random numbers between 10 and 30\n",
        "list1 = random.sample(range(10, 31), 10)\n",
        "list2 = random.sample(range(10, 31), 10)\n",
        "\n",
        "print(\"List 1:\", list1)\n",
        "print(\"List 2:\", list2)\n",
        "\n",
        "# (i) Common numbers in the two lists\n",
        "common_numbers = set(list1).intersection(list2)\n",
        "print(\"Common numbers:\", common_numbers)\n",
        "\n",
        "# (ii) Unique numbers in both lists\n",
        "unique_numbers = set(list1).symmetric_difference(list2)\n",
        "print(\"Unique numbers:\", unique_numbers)\n",
        "\n",
        "# (iii) Minimum in both lists\n",
        "min1 = min(list1)\n",
        "min2 = min(list2)\n",
        "print(\"Minimum in List 1:\", min1)\n",
        "print(\"Minimum in List 2:\", min2)\n",
        "\n",
        "# (iv) Maximum in both lists\n",
        "max1 = max(list1)\n",
        "max2 = max(list2)\n",
        "print(\"Maximum in List 1:\", max1)\n",
        "print(\"Maximum in List 2:\", max2)\n",
        "\n",
        "# (v) Sum of both lists\n",
        "sum1 = sum(list1)\n",
        "sum2 = sum(list2)\n",
        "print(\"Sum of List 1:\", sum1)\n",
        "print(\"Sum of List 2:\", sum2)\n"
      ],
      "metadata": {
        "colab": {
          "base_uri": "https://localhost:8080/"
        },
        "id": "3m37SOnYZDsJ",
        "outputId": "d196515b-4eb2-4fec-d558-5683606db482"
      },
      "execution_count": null,
      "outputs": [
        {
          "output_type": "stream",
          "name": "stdout",
          "text": [
            "List 1: [14, 11, 28, 29, 10, 15, 21, 13, 27, 24]\n",
            "List 2: [29, 26, 13, 30, 24, 12, 20, 10, 14, 18]\n",
            "Common numbers: {10, 13, 14, 24, 29}\n",
            "Unique numbers: {11, 12, 15, 18, 20, 21, 26, 27, 28, 30}\n",
            "Minimum in List 1: 10\n",
            "Minimum in List 2: 10\n",
            "Maximum in List 1: 29\n",
            "Maximum in List 2: 30\n",
            "Sum of List 1: 192\n",
            "Sum of List 2: 196\n"
          ]
        }
      ]
    },
    {
      "cell_type": "markdown",
      "source": [
        "# **Question 6**"
      ],
      "metadata": {
        "id": "lhIjG_jCZivL"
      }
    },
    {
      "cell_type": "code",
      "source": [
        "import random\n",
        "\n",
        "# Generate a list of 100 random numbers between 100 and 900\n",
        "numbers = random.sample(range(100, 901), 100)\n",
        "\n",
        "# (i) All odd numbers\n",
        "odd_numbers = [num for num in numbers if num % 2 != 0]\n",
        "print(\"Odd numbers:\", odd_numbers)\n",
        "\n",
        "# (ii) All even numbers\n",
        "even_numbers = [num for num in numbers if num % 2 == 0]\n",
        "print(\"Even numbers:\", even_numbers)\n",
        "\n",
        "# (iii) All prime numbers\n",
        "def is_prime(number):\n",
        "    if number < 2:\n",
        "        return False\n",
        "    for i in range(2, int(number ** 0.5) + 1):\n",
        "        if number % i == 0:\n",
        "            return False\n",
        "    return True\n",
        "\n",
        "prime_numbers = [num for num in numbers if is_prime(num)]\n",
        "print(\"Prime numbers:\", prime_numbers)\n"
      ],
      "metadata": {
        "colab": {
          "base_uri": "https://localhost:8080/"
        },
        "id": "YMJh5n_8Zl7p",
        "outputId": "888ab6e7-b351-4ae7-9caf-117775898cd2"
      },
      "execution_count": null,
      "outputs": [
        {
          "output_type": "stream",
          "name": "stdout",
          "text": [
            "Odd numbers: [505, 653, 569, 431, 361, 547, 689, 721, 817, 509, 645, 297, 511, 315, 115, 399, 651, 323, 755, 455, 471, 145, 563, 663, 141, 395, 633, 671, 827, 739, 173, 575, 129, 657, 227, 153, 301, 567, 215, 573, 469]\n",
            "Even numbers: [608, 556, 578, 720, 672, 318, 268, 362, 612, 518, 516, 464, 386, 216, 524, 134, 190, 264, 700, 676, 432, 762, 664, 796, 418, 112, 666, 674, 778, 298, 896, 374, 770, 620, 624, 856, 764, 688, 834, 814, 586, 234, 776, 250, 274, 842, 176, 286, 128, 560, 200, 656, 324, 192, 874, 364, 682, 502, 760]\n",
            "Prime numbers: [653, 569, 431, 547, 509, 563, 827, 739, 173, 227]\n"
          ]
        }
      ]
    },
    {
      "cell_type": "markdown",
      "source": [
        "# **Question 7**"
      ],
      "metadata": {
        "id": "C9_CVckJZ_gj"
      }
    },
    {
      "cell_type": "code",
      "source": [
        "D = {1: \"One\", 2: \"Two\", 3: \"Three\", 4: \"Four\", 5: \"Five\"}\n",
        "\n",
        "# Open the file in write mode\n",
        "with open(\"Assingment1.ipynb\", \"w\") as file:\n",
        "    # Iterate over the keys and values of the dictionary\n",
        "    for key, value in D.items():\n",
        "        # Write the key and value to the file\n",
        "        file.write(f\"{key}, {value}\\n\")\n",
        "\n",
        "# Print a message indicating the operation is complete\n",
        "print(\"Keys and values written to the file successfully.\")\n"
      ],
      "metadata": {
        "colab": {
          "base_uri": "https://localhost:8080/"
        },
        "id": "tzUYCmF3aCZ5",
        "outputId": "b36e5074-ef89-4fde-f1ff-2635da83846f"
      },
      "execution_count": null,
      "outputs": [
        {
          "output_type": "stream",
          "name": "stdout",
          "text": [
            "Keys and values written to the file successfully.\n"
          ]
        }
      ]
    },
    {
      "cell_type": "markdown",
      "source": [
        "# Question **8**"
      ],
      "metadata": {
        "id": "RYKY4uHvaph9"
      }
    },
    {
      "cell_type": "code",
      "source": [
        "L = [\"One\", \"Two\", \"Three\", \"Four\", \"Five\"]\n",
        "\n",
        "# Open the file in write mode\n",
        "with open(\"list_output.txt\", \"w\") as file:\n",
        "    # Iterate over the elements in the list\n",
        "    for element in L:\n",
        "        # Get the length of each element\n",
        "        length = len(element)\n",
        "        # Write the element and its length to the file\n",
        "        file.write(f\"{element}, {length}\\n\")\n",
        "\n",
        "# Print a message indicating the operation is complete\n",
        "print(\"Element lengths written to the file successfully.\")\n"
      ],
      "metadata": {
        "colab": {
          "base_uri": "https://localhost:8080/"
        },
        "id": "teteRGvYasSY",
        "outputId": "6c9eed01-cda0-4b04-9349-b79ed3eb1d26"
      },
      "execution_count": null,
      "outputs": [
        {
          "output_type": "stream",
          "name": "stdout",
          "text": [
            "Element lengths written to the file successfully.\n"
          ]
        }
      ]
    },
    {
      "cell_type": "markdown",
      "source": [
        "# Question **9**"
      ],
      "metadata": {
        "id": "Tp90qnrRbE9b"
      }
    },
    {
      "cell_type": "code",
      "source": [
        "import random\n",
        "import string\n",
        "\n",
        "# Generate a random string of given length\n",
        "def generate_random_string(length):\n",
        "    letters = string.ascii_letters\n",
        "    return ''.join(random.choice(letters) for _ in range(length))\n",
        "\n",
        "# Open the file in write mode\n",
        "with open(\"random_strings.txt\", \"w\") as file:\n",
        "    # Generate and write 100 random strings\n",
        "    for _ in range(100):\n",
        "        random_length = random.randint(10, 15)\n",
        "        random_string = generate_random_string(random_length)\n",
        "        file.write(random_string + \"\\n\")\n",
        "\n",
        "# Print a message indicating the operation is complete\n",
        "print(\"100 random strings written to the file successfully.\")\n"
      ],
      "metadata": {
        "colab": {
          "base_uri": "https://localhost:8080/"
        },
        "id": "Mq_7jMzzbJe-",
        "outputId": "cae444b8-951d-4fa5-c5aa-f10e703d6944"
      },
      "execution_count": null,
      "outputs": [
        {
          "output_type": "stream",
          "name": "stdout",
          "text": [
            "100 random strings written to the file successfully.\n"
          ]
        }
      ]
    },
    {
      "cell_type": "markdown",
      "source": [
        "# **Question 10**"
      ],
      "metadata": {
        "id": "dJ5XekE9bb-r"
      }
    },
    {
      "cell_type": "code",
      "source": [
        "# Function to check if a number is prime\n",
        "def is_prime(number):\n",
        "    if number < 2:\n",
        "        return False\n",
        "    for i in range(2, int(number**0.5) + 1):\n",
        "        if number % i == 0:\n",
        "            return False\n",
        "    return True\n",
        "\n",
        "# Open the file in write mode\n",
        "with open(\"prime_numbers.txt\", \"w\") as file:\n",
        "    # Iterate over the numbers between 600 and 800\n",
        "    for number in range(600, 801):\n",
        "        # Check if the number is prime\n",
        "        if is_prime(number):\n",
        "            # Write the prime number to the file\n",
        "            file.write(str(number) + \"\\n\")\n",
        "\n",
        "# Print a message indicating the operation is complete\n",
        "print(\"Prime numbers written to the file successfully.\")\n"
      ],
      "metadata": {
        "id": "yocndMAmbhAJ"
      },
      "execution_count": null,
      "outputs": []
    },
    {
      "cell_type": "markdown",
      "source": [
        "# **Question 11**"
      ],
      "metadata": {
        "id": "43liPLUY5XLw"
      }
    },
    {
      "cell_type": "code",
      "source": [
        "# Calculate Total Time taken bu Program\n",
        "import time as t\n",
        "stime=t.time()\n",
        "etime=t.time()\n",
        "total_time=etime-stime\n",
        "print(\"Total Time Taken by the Program--> \",total_time)\n",
        "\n"
      ],
      "metadata": {
        "colab": {
          "base_uri": "https://localhost:8080/"
        },
        "id": "LoChcTQy5dnx",
        "outputId": "90cb450c-ef0b-4549-e922-161292ad472f"
      },
      "execution_count": null,
      "outputs": [
        {
          "output_type": "stream",
          "name": "stdout",
          "text": [
            "Total Time Taken by the Program-->  4.4345855712890625e-05\n"
          ]
        }
      ]
    },
    {
      "cell_type": "markdown",
      "source": [
        "# Question **13**"
      ],
      "metadata": {
        "id": "Qj7cuqVDb17U"
      }
    },
    {
      "cell_type": "code",
      "source": [
        "# Dictionary of student marks\n",
        "student_marks = {\n",
        "    \"Alice\": [85, 90, 92, 88, 95],\n",
        "    \"Bob\": [76, 85, 90, 82, 80],\n",
        "    \"Charlie\": [92, 88, 95, 90, 94],\n",
        "    \"David\": [80, 82, 85, 88, 76],\n",
        "    \"Eve\": [90, 92, 88, 95, 82]\n",
        "}\n",
        "\n",
        "# Calculate average marks for each student\n",
        "average_marks = {student: sum(marks) / len(marks) for student, marks in student_marks.items()}\n",
        "\n",
        "# Find the student with the maximum and minimum average marks\n",
        "max_student = max(average_marks, key=average_marks.get)\n",
        "min_student = min(average_marks, key=average_marks.get)\n",
        "\n",
        "# Print the results\n",
        "print(\"Student with maximum average marks:\", max_student)\n",
        "print(\"Student with minimum average marks:\", min_student)\n"
      ],
      "metadata": {
        "colab": {
          "base_uri": "https://localhost:8080/"
        },
        "id": "VsSe6M4Ub4My",
        "outputId": "949e323f-d521-4d4f-b154-8c4716d1dbad"
      },
      "execution_count": null,
      "outputs": [
        {
          "output_type": "stream",
          "name": "stdout",
          "text": [
            "Student with maximum average marks: Charlie\n",
            "Student with minimum average marks: David\n"
          ]
        }
      ]
    }
  ]
}